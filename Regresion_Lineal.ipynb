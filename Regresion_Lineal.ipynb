{
  "cells": [
    {
      "cell_type": "markdown",
      "metadata": {
        "id": "view-in-github",
        "colab_type": "text"
      },
      "source": [
        "<a href=\"https://colab.research.google.com/github/licettbermudezr-cmyk/Regresion_Lineal/blob/main/Copia_de_Regresion_Lineal.ipynb\" target=\"_parent\"><img src=\"https://colab.research.google.com/assets/colab-badge.svg\" alt=\"Open In Colab\"/></a>"
      ]
    },
    {
      "cell_type": "markdown",
      "metadata": {
        "id": "Ii_7DdtJH8e2"
      },
      "source": [
        "# Taller 3: Regresión Lineal y Conceptos Fundamentales\n",
        "\n",
        "\n"
      ],
      "id": "Ii_7DdtJH8e2"
    },
    {
      "cell_type": "markdown",
      "metadata": {
        "id": "1KuTZ6PkH8e5"
      },
      "source": [
        "## Instrucciones Generales\n",
        "\n",
        "**Fecha de entrega:** 20 de septiembre.\n",
        "**Tiempo disponible:** Tienen dos clases y el fin de semana para completar el taller.\n",
        "\n",
        "1.  **Trabajo en Grupo:** Este taller se debe realizar en los grupos previamente definidos.\n",
        "2.  **Repositorio en GitHub:** Cada grupo debe crear un repositorio en GitHub.\n",
        "    * Una sola persona del grupo es responsable de crearlo.\n",
        "    * El repositorio debe llamarse **`Regresion_Lineal`**.\n",
        "    * Este archivo debe ser subido al repositorio con el nombre **`Regresion_Lineal.ipynb`**.\n",
        "    * **Alternativa:** Si tienen complicaciones con GitHub, pueden enviar el enlace del cuaderno de Google Colab al aula virtual.\n",
        "3.  **Actividad a Mano (20% de la nota):**\n",
        "    * La asistencia a clase es **obligatoria**.\n",
        "    * Se realizará una actividad práctica de regresión lineal a mano.\n",
        "    * Cada integrante del grupo deberá firmar la hoja de la actividad, la cual constituye el 20% de la nota de este taller."
      ],
      "id": "1KuTZ6PkH8e5"
    },
    {
      "cell_type": "markdown",
      "metadata": {
        "id": "mgaEeFAbH8e7"
      },
      "source": [
        "---"
      ],
      "id": "mgaEeFAbH8e7"
    },
    {
      "cell_type": "markdown",
      "metadata": {
        "id": "et22XL5bH8e7"
      },
      "source": [
        "## **Parte 1: Definición del Problema**\n",
        "\n",
        "Piensa en tu experiencia académica o laboral en un área de operaciones y elige **un problema** relacionado con inventarios, calidad, mantenimiento o productividad.\n",
        "\n",
        "1.  Indica cuál es tu variable dependiente **$Y$** (aquello que quieres predecir o clasificar).\n",
        "2.  Lista entre 3 y 5 variables independientes **$X$** que medirías para predecir $Y$.\n",
        "3.  Especifica si tu problema es de **regresión** (predecir un valor numérico) o de **clasificación**."
      ],
      "id": "et22XL5bH8e7"
    },
    {
      "cell_type": "markdown",
      "metadata": {
        "id": "pxSLPR4AH8e8"
      },
      "source": [
        "**Respuesta (escribe aquí):**\n",
        "\n",
        "\n",
        "**Respuesta 1:**\n",
        "Tiempo de producción por lote de arequipe (minutos).\n",
        "\n",
        "**Respuesta 2:**\n",
        "Temperatura de cocción (°C).\n",
        "\n",
        "Cantidad de materia prima (litros de leche).\n",
        "\n",
        "Nivel de experiencia del operario (años).\n",
        "\n",
        "Velocidad de agitación (rpm).\n",
        "\n",
        "Humedad ambiente (%).\n",
        "\n",
        "**Respuesta 3:**\n",
        "El problema es de regresión, porque se busca predecir un valor numérico (tiempo en minutos)."
      ],
      "id": "pxSLPR4AH8e8"
    },
    {
      "cell_type": "markdown",
      "metadata": {
        "id": "eHOtOSQiH8e9"
      },
      "source": [
        "## **Parte 2: Preprocesamiento de Datos y *Leakage***\n",
        "\n",
        "Basado en el caso que definiste en la Parte 1:\n",
        "\n",
        "1.  Lista entre 3 y 5 **transformaciones** que aplicarías a tus datos (ej. imputación de valores faltantes, codificación de variables categóricas, escalado, creación de *lags*, etc.) y **justifica por qué** cada una es necesaria.\n",
        "2.  Señala un posible riesgo de ***data leakage*** (fuga de datos) en tu plan y explica cómo lo evitarías usando un *pipeline* de preprocesamiento."
      ],
      "id": "eHOtOSQiH8e9"
    },
    {
      "cell_type": "markdown",
      "metadata": {
        "id": "6KYkmr9mH8e9"
      },
      "source": [
        "**Respuesta (escribe aquí):**\n",
        "Transformaciones (3–5):\n",
        "\n",
        "Imputación de valores faltantes: si algún lote no tiene registrada la humedad o la velocidad de agitación, se imputan usando la media o mediana.\n",
        "\n",
        "Justificación: evitar pérdida de datos y mantener consistencia.\n",
        "\n",
        "Escalado de variables numéricas (normalización): por ejemplo, la temperatura y la velocidad de agitación están en escalas muy diferentes.\n",
        "\n",
        "Justificación: necesario para algoritmos sensibles a magnitudes (ej. regresión lineal o redes neuronales).\n",
        "\n",
        "Codificación de variable categórica (experiencia del operario): convertir niveles de experiencia (novato, intermedio, experto) en valores numéricos.\n",
        "\n",
        "Justificación: los modelos no trabajan con texto directamente.\n",
        "\n",
        "Creación de lags o promedios móviles: generar variables con valores históricos de producción.\n",
        "\n",
        "Justificación: permite capturar efectos de procesos previos en el rendimiento actual.\n",
        "\n",
        "Riesgo de data leakage:\n",
        "Si en el preprocesamiento se incluyen promedios que usan datos futuros (ej. promedio de las próximas 5 producciones).\n",
        "\n",
        "Solución: usar un pipeline que divida los datos en entrenamiento y prueba antes de calcular los lags, asegurando que solo se usen datos pasados."
      ],
      "id": "6KYkmr9mH8e9"
    },
    {
      "cell_type": "markdown",
      "metadata": {
        "id": "hbyCKrY6H8e-"
      },
      "source": [
        "---"
      ],
      "id": "hbyCKrY6H8e-"
    },
    {
      "cell_type": "markdown",
      "metadata": {
        "id": "ukCTM2EKH8e-"
      },
      "source": [
        "## **Parte 3: Interpretación y Métricas de Regresión Simple**\n",
        "\n",
        "Para esta sección, elige un caso simple de regresión (puede ser el tuyo o uno hipotético, como predecir la demanda de un producto según su precio).\n",
        "\n",
        "1.  Define claramente las variables **$Y$** y **$X$** junto con sus **unidades** (ej. $Y$: número de unidades vendidas, $X$: precio en dólares).\n",
        "2.  Supón que entrenas un modelo y obtienes una pendiente de **$\\hat{\\beta}_1 = -0.6$**. Escribe una interpretación clara y concisa de este coeficiente en el contexto de tu problema.\n",
        "3.  ¿Qué **métrica** de evaluación usarías (MAE, RMSE, o MAPE) y **por qué** es la más adecuada para tu caso?\n",
        "4.  Menciona **un supuesto** del modelo de regresión lineal que validarías (ej. linealidad, homocedasticidad) y explica **cómo** lo harías (usando un gráfico o una prueba estadística)."
      ],
      "id": "ukCTM2EKH8e-"
    },
    {
      "cell_type": "markdown",
      "metadata": {
        "id": "5KGzW8pSH8e_"
      },
      "source": [
        "**Respuesta (escribe aquí):**\n",
        "Relación entre precio del producto (X, en COP) y demanda (Y, unidades vendidas).\n",
        "\n",
        "Variables:\n",
        "\n",
        "Y: Demanda (unidades vendidas).\n",
        "\n",
        "X: Precio (COP).\n",
        "\n",
        "Coeficiente β₁ = -0.6:\n",
        "Por cada incremento de 1 peso en el precio, la demanda disminuye en promedio 0.6 unidades. Relación negativa.\n",
        "\n",
        "Métrica de evaluación:\n",
        "Usaría MAPE (Error Porcentual Absoluto Medio).\n",
        "\n",
        "Justificación: en ventas interesa el error relativo, no absoluto, porque una diferencia de 50 unidades no significa lo mismo si la demanda es 100 que si es 5.000.\n",
        "\n",
        "Supuesto a validar:\n",
        "Linealidad: graficar dispersión de precio vs demanda y verificar tendencia lineal."
      ],
      "id": "5KGzW8pSH8e_"
    },
    {
      "cell_type": "markdown",
      "metadata": {
        "id": "NlCf92svH8e_"
      },
      "source": [
        "---"
      ],
      "id": "NlCf92svH8e_"
    },
    {
      "cell_type": "markdown",
      "metadata": {
        "id": "DEOrd_fSH8e_"
      },
      "source": [
        "## **Parte 4: Regresión Múltiple y Colinealidad**\n",
        "\n",
        "Volviendo a tu caso de la Parte 1 (con múltiples variables).\n",
        "\n",
        "1.  Escribe el **vector de variables** $\\vec{X}$ y la **respuesta** $Y$.\n",
        "2.  Explica cómo interpretarías el **coeficiente** de una de tus variables clave (incluyendo unidades y el sentido de la relación: positiva o negativa).\n",
        "3.  Si sospecharas que existe **colinealidad** entre tus variables, menciona **dos acciones** que podrías tomar para mitigarla."
      ],
      "id": "DEOrd_fSH8e_"
    },
    {
      "cell_type": "markdown",
      "metadata": {
        "id": "REUWPUP_H8fA"
      },
      "source": [
        "**Respuesta (escribe aquí):**"
      ],
      "id": "REUWPUP_H8fA"
    },
    {
      "cell_type": "markdown",
      "metadata": {
        "id": "Kfz2bBkzH8fA"
      },
      "source": [
        "Vector de variables X y Y:\n",
        "\n",
        "Y: Tiempo de producción por lote (minutos).\n",
        "\n",
        "X = [Temperatura de cocción, Cantidad de leche, Experiencia del operario, Velocidad de agitación, Humedad ambiente].\n",
        "\n",
        "Interpretación del coeficiente (ejemplo: velocidad de agitación):\n",
        "Si el coeficiente es -0.8, significa que por cada aumento de 1 rpm en la agitación, el tiempo de producción disminuye en 0.8 minutos, manteniendo las demás variables constantes. Relación negativa.\n",
        "\n",
        "Si hay colinealidad:\n",
        "\n",
        "Acción 1: Eliminar una de las variables correlacionadas.\n",
        "\n",
        "Acción 2: Aplicar técnicas de regularización (Ridge o Lasso)."
      ],
      "id": "Kfz2bBkzH8fA"
    },
    {
      "cell_type": "markdown",
      "metadata": {
        "id": "d0sQYW3DH8fA"
      },
      "source": [
        "## **Parte 5: Interacciones y Multicolinealidad (VIF)**\n",
        "\n",
        "1.  Plantea un caso con una variable $Y$ y entre 4 y 6 variables $X$. ¿Qué término de **interacción** entre dos variables podrías añadir al modelo y **por qué** crees que sería útil?\n",
        "2.  Si al calcular el Factor de Inflación de la Varianza (VIF) para una variable, obtienes un valor alto (ej. > 10), menciona **dos acciones** que podrías tomar para solucionarlo."
      ],
      "id": "d0sQYW3DH8fA"
    },
    {
      "cell_type": "markdown",
      "metadata": {
        "id": "tEgefQ1cH8fA"
      },
      "source": [
        "**Respuesta (escribe aquí):**\n",
        "Interacción propuesta:\n",
        "Temperatura de cocción × Humedad ambiente.\n",
        "\n",
        "Justificación: la humedad afecta la evaporación y junto con la temperatura puede modificar el tiempo de producción.\n",
        "\n",
        "Si el VIF > 10 para una variable:\n",
        "\n",
        "Acción 1: Eliminar la variable redundante.\n",
        "\n",
        "Acción 2: Usar componentes principales (PCA) para reducir dimensionalidad."
      ],
      "id": "tEgefQ1cH8fA"
    },
    {
      "cell_type": "markdown",
      "metadata": {
        "id": "8XdQIyu_H8fB"
      },
      "source": [
        "---"
      ],
      "id": "8XdQIyu_H8fB"
    },
    {
      "cell_type": "markdown",
      "metadata": {
        "id": "XKsr-uPlH8fB"
      },
      "source": [
        "## **Parte 6: Variables Categóricas e Interacciones**\n",
        "\n",
        "1.  Define una **variable categórica** para tu caso (puedes inventarla si no la tenías). Elige una de sus categorías como el nivel **base** o de referencia y **justifica** tu elección.\n",
        "2.  Crea una **interacción** entre una variable numérica y la variable categórica que definiste. Explica cómo se interpretaría el coeficiente de esta interacción."
      ],
      "id": "XKsr-uPlH8fB"
    },
    {
      "cell_type": "markdown",
      "metadata": {
        "id": "7i_JBwwbH8fC"
      },
      "source": [
        "**Respuesta (escribe aquí):**\n",
        "Variable categórica:\n",
        "Tipo de leche usada (entera, deslactosada, semidescremada).\n",
        "\n",
        "Nivel base: entera (más utilizada y estándar en la planta).\n",
        "\n",
        "Interacción:\n",
        "Cantidad de leche × Tipo de leche.\n",
        "\n",
        "Interpretación: el coeficiente mostrará cómo el impacto de la cantidad de leche sobre el tiempo de producción varía según el tipo de leche utilizada."
      ],
      "id": "7i_JBwwbH8fC"
    },
    {
      "cell_type": "markdown",
      "metadata": {
        "id": "DjYrQWpqH8fC"
      },
      "source": [
        "---"
      ],
      "id": "DjYrQWpqH8fC"
    },
    {
      "cell_type": "markdown",
      "metadata": {
        "id": "mG9YJpeoH8fC"
      },
      "source": [
        "## **Parte 7: Conceptos Clave de Clasificación**\n",
        "\n",
        "Aunque el taller se centra en regresión, estos conceptos son fundamentales en Machine Learning.\n",
        "\n",
        "1.  Explica qué es la **curva ROC** y para qué se utiliza en un problema de clasificación.\n",
        "2.  Define el concepto de **accuracy** (exactitud) y menciona una situación en la que podría ser una métrica engañosa.\n",
        "3.  Describe qué es una **matriz de confusión** y cómo se interpretan sus componentes (Verdaderos Positivos, Falsos Positivos, Verdaderos Negativos, Falsos Negativos)."
      ],
      "id": "mG9YJpeoH8fC"
    },
    {
      "cell_type": "markdown",
      "metadata": {
        "id": "aq-cYN3nH8fD"
      },
      "source": [
        "**Respuesta (escribe aquí):**\n",
        "Curva ROC:\n",
        "Es una gráfica que muestra la relación entre la tasa de verdaderos positivos (TPR) y la tasa de falsos positivos (FPR). Se usa para evaluar clasificadores binarios y medir su capacidad discriminatoria.\n",
        "\n",
        "Accuracy (exactitud):\n",
        "Es la proporción de predicciones correctas sobre el total.\n",
        "\n",
        "Puede ser engañosa si las clases están desbalanceadas (ej. 95% de productos buenos y 5% defectuosos: un modelo que siempre prediga \"bueno\" tendrá 95% de accuracy, pero no detecta defectos).\n",
        "\n",
        "Matriz de confusión:\n",
        "\n",
        "Verdaderos Positivos (TP): casos bien clasificados como positivos.\n",
        "\n",
        "Verdaderos Negativos (TN): casos bien clasificados como negativos.\n",
        "\n",
        "Falsos Positivos (FP): casos incorrectamente clasificados como positivos.\n",
        "\n",
        "Falsos Negativos (FN): casos incorrectamente clasificados como negativos.\n",
        "\n",
        "Permite ver dónde se equivoca más el modelo y no depender solo de una métrica global."
      ],
      "id": "aq-cYN3nH8fD"
    }
  ],
  "metadata": {
    "kernelspec": {
      "display_name": "Python 3",
      "language": "python",
      "name": "python3"
    },
    "language_info": {
      "name": "python",
      "version": "3.x"
    },
    "colab": {
      "provenance": [],
      "include_colab_link": true
    }
  },
  "nbformat": 4,
  "nbformat_minor": 5
}
